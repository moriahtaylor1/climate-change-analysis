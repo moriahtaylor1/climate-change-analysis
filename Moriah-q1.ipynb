{
 "cells": [
  {
   "cell_type": "markdown",
   "metadata": {},
   "source": [
    "## What makes Small Island Developing States most vulnerable to climate change?"
   ]
  },
  {
   "cell_type": "code",
   "execution_count": 64,
   "metadata": {},
   "outputs": [],
   "source": [
    "import pandas as pd\n",
    "import matplotlib\n",
    "import matplotlib.pyplot as plt\n",
    "import numpy as np"
   ]
  },
  {
   "cell_type": "code",
   "execution_count": 39,
   "metadata": {},
   "outputs": [
    {
     "data": {
      "text/html": [
       "<div>\n",
       "<style scoped>\n",
       "    .dataframe tbody tr th:only-of-type {\n",
       "        vertical-align: middle;\n",
       "    }\n",
       "\n",
       "    .dataframe tbody tr th {\n",
       "        vertical-align: top;\n",
       "    }\n",
       "\n",
       "    .dataframe thead th {\n",
       "        text-align: right;\n",
       "    }\n",
       "</style>\n",
       "<table border=\"1\" class=\"dataframe\">\n",
       "  <thead>\n",
       "    <tr style=\"text-align: right;\">\n",
       "      <th></th>\n",
       "      <th>iso</th>\n",
       "      <th>country</th>\n",
       "      <th>region</th>\n",
       "      <th>year</th>\n",
       "      <th>pop_total</th>\n",
       "      <th>pop_growth</th>\n",
       "      <th>gdp</th>\n",
       "      <th>imports</th>\n",
       "      <th>exports</th>\n",
       "      <th>avg_precip</th>\n",
       "      <th>co2</th>\n",
       "      <th>methane</th>\n",
       "      <th>nitrous_oxide</th>\n",
       "      <th>total_ghg</th>\n",
       "      <th>avg_temp_c</th>\n",
       "      <th>avg_temp_f</th>\n",
       "    </tr>\n",
       "  </thead>\n",
       "  <tbody>\n",
       "    <tr>\n",
       "      <th>0</th>\n",
       "      <td>AFG</td>\n",
       "      <td>Afghanistan</td>\n",
       "      <td>South Asia</td>\n",
       "      <td>2000</td>\n",
       "      <td>20779953</td>\n",
       "      <td>2.975053</td>\n",
       "      <td>NaN</td>\n",
       "      <td>NaN</td>\n",
       "      <td>NaN</td>\n",
       "      <td>NaN</td>\n",
       "      <td>0.758</td>\n",
       "      <td>10.59</td>\n",
       "      <td>3.62</td>\n",
       "      <td>15.05</td>\n",
       "      <td>15.822667</td>\n",
       "      <td>60.48080</td>\n",
       "    </tr>\n",
       "    <tr>\n",
       "      <th>1</th>\n",
       "      <td>AFG</td>\n",
       "      <td>Afghanistan</td>\n",
       "      <td>South Asia</td>\n",
       "      <td>2001</td>\n",
       "      <td>21606988</td>\n",
       "      <td>3.902806</td>\n",
       "      <td>NaN</td>\n",
       "      <td>NaN</td>\n",
       "      <td>NaN</td>\n",
       "      <td>NaN</td>\n",
       "      <td>0.798</td>\n",
       "      <td>9.36</td>\n",
       "      <td>3.22</td>\n",
       "      <td>13.47</td>\n",
       "      <td>15.847917</td>\n",
       "      <td>60.52625</td>\n",
       "    </tr>\n",
       "    <tr>\n",
       "      <th>2</th>\n",
       "      <td>AFG</td>\n",
       "      <td>Afghanistan</td>\n",
       "      <td>South Asia</td>\n",
       "      <td>2002</td>\n",
       "      <td>22600770</td>\n",
       "      <td>4.496720</td>\n",
       "      <td>7.465115e+09</td>\n",
       "      <td>NaN</td>\n",
       "      <td>NaN</td>\n",
       "      <td>327.0</td>\n",
       "      <td>1.052</td>\n",
       "      <td>11.21</td>\n",
       "      <td>3.72</td>\n",
       "      <td>16.10</td>\n",
       "      <td>15.714583</td>\n",
       "      <td>60.28625</td>\n",
       "    </tr>\n",
       "    <tr>\n",
       "      <th>3</th>\n",
       "      <td>AFG</td>\n",
       "      <td>Afghanistan</td>\n",
       "      <td>South Asia</td>\n",
       "      <td>2003</td>\n",
       "      <td>23680871</td>\n",
       "      <td>4.668361</td>\n",
       "      <td>8.124454e+09</td>\n",
       "      <td>NaN</td>\n",
       "      <td>NaN</td>\n",
       "      <td>NaN</td>\n",
       "      <td>1.186</td>\n",
       "      <td>11.56</td>\n",
       "      <td>3.92</td>\n",
       "      <td>16.78</td>\n",
       "      <td>15.132583</td>\n",
       "      <td>59.23865</td>\n",
       "    </tr>\n",
       "    <tr>\n",
       "      <th>4</th>\n",
       "      <td>AFG</td>\n",
       "      <td>Afghanistan</td>\n",
       "      <td>South Asia</td>\n",
       "      <td>2004</td>\n",
       "      <td>24726684</td>\n",
       "      <td>4.321539</td>\n",
       "      <td>8.239344e+09</td>\n",
       "      <td>NaN</td>\n",
       "      <td>NaN</td>\n",
       "      <td>NaN</td>\n",
       "      <td>0.889</td>\n",
       "      <td>11.47</td>\n",
       "      <td>3.82</td>\n",
       "      <td>16.35</td>\n",
       "      <td>16.128417</td>\n",
       "      <td>61.03115</td>\n",
       "    </tr>\n",
       "  </tbody>\n",
       "</table>\n",
       "</div>"
      ],
      "text/plain": [
       "   iso      country      region  year  pop_total  pop_growth           gdp  \\\n",
       "0  AFG  Afghanistan  South Asia  2000   20779953    2.975053           NaN   \n",
       "1  AFG  Afghanistan  South Asia  2001   21606988    3.902806           NaN   \n",
       "2  AFG  Afghanistan  South Asia  2002   22600770    4.496720  7.465115e+09   \n",
       "3  AFG  Afghanistan  South Asia  2003   23680871    4.668361  8.124454e+09   \n",
       "4  AFG  Afghanistan  South Asia  2004   24726684    4.321539  8.239344e+09   \n",
       "\n",
       "   imports  exports  avg_precip    co2  methane  nitrous_oxide  total_ghg  \\\n",
       "0      NaN      NaN         NaN  0.758    10.59           3.62      15.05   \n",
       "1      NaN      NaN         NaN  0.798     9.36           3.22      13.47   \n",
       "2      NaN      NaN       327.0  1.052    11.21           3.72      16.10   \n",
       "3      NaN      NaN         NaN  1.186    11.56           3.92      16.78   \n",
       "4      NaN      NaN         NaN  0.889    11.47           3.82      16.35   \n",
       "\n",
       "   avg_temp_c  avg_temp_f  \n",
       "0   15.822667    60.48080  \n",
       "1   15.847917    60.52625  \n",
       "2   15.714583    60.28625  \n",
       "3   15.132583    59.23865  \n",
       "4   16.128417    61.03115  "
      ]
     },
     "execution_count": 39,
     "metadata": {},
     "output_type": "execute_result"
    }
   ],
   "source": [
    "stats_data = pd.read_csv(\"data/question1_df.csv\")\n",
    "stats_data.head()"
   ]
  },
  {
   "cell_type": "code",
   "execution_count": 3,
   "metadata": {},
   "outputs": [],
   "source": [
    "#identify countries by their unfccc negotiating parties\n",
    "##small island developing states\n",
    "sids = ['Bahrain', 'Cabo Verde', 'Comoros', 'Guinea-Bissau', 'Maldives', 'Mauritius', \n",
    "        'Sao Tomé and Principe', 'Seychelles', 'Singapore', 'Antigua and Barbuda', \n",
    "        'Bahamas', 'Barbados', 'Belize', 'Cuba', 'Dominica', 'Dominican Republic',\n",
    "        'Grenada', 'Guyana', 'Haiti', 'Jamaica', 'Saint Kitts and Nevis', \n",
    "        'Saint Lucia', 'Saint Vincent and the Grenadines', 'Suriname', 'Trinidad and Tobago',\n",
    "        'Fiji', 'Kiribati', 'Marshall Islands', 'Micronesia (Federated States of)',\n",
    "        'Nauru', 'Palau', 'Papua New Guinea', 'Samoa', 'Solomon Islands', 'Timor-Leste',\n",
    "        'Tonga', 'Tuvalu', 'Vanuatu']\n",
    "##least developed countries\n",
    "ldc = ['Afghanistan', 'Angola', 'Bangladesh', 'Benin', 'Bhutan', 'Burkina Faso', 'Burundi',\n",
    "       'Cambodia', 'Central African Republic', 'Chad', 'Comoros', 'Democratic Republic of the Congo',\n",
    "       'Djibouti', 'Eritrea', 'Ethiopia', 'Gambia', 'Guinea', 'Guinea Bissau', 'Haiti', 'Kiribati',\n",
    "       \"Lao People's Democratic Republic\", 'Lesotho', 'Liberia', 'Madagascar', 'Malawi', 'Mali',\n",
    "       'Mauritania', 'Mozambique', 'Myanmar', 'Nepal', 'Niger', 'Rwanda', 'Sao Tome and Principe', \n",
    "       'Senegal', 'Sierra Leone', 'Solomon Islands', 'Somalia', 'South Sudan', 'Sudan', 'Timor Leste', \n",
    "       'Togo', 'Tuvalu', 'Uganda', 'United Republic of Tanzania', 'Vanuatu', 'Yemen', 'Zambia']\n",
    "##european union\n",
    "eu = ['Austria', 'Belgium', 'Bulgaria', 'Croatia', 'Republic of Cyprus', 'Czech Republic', 'Denmark', \n",
    "      'Estonia', 'Finland', 'France', 'Germany', 'Greece', 'Hungary', 'Ireland', 'Italy', 'Latvia', \n",
    "      'Lithuania', 'Luxembourg', 'Malta', 'Netherlands', 'Poland', 'Portugal', 'Romania', 'Slovakia', \n",
    "      'Slovenia', 'Spain', 'Sweden']\n",
    "#organization of petroleum-exporting countries\n",
    "opec = ['Algeria', 'Angola', 'Congo', 'Ecuador', 'Equatorial Guinea', 'Gabon', 'Iran', 'Iraq', \n",
    "        'Kuwait', 'Libya', 'Nigeria', 'Qatar', 'Saudi Arabia', 'United Arab Emirates', 'Venezuela']"
   ]
  },
  {
   "cell_type": "code",
   "execution_count": 61,
   "metadata": {},
   "outputs": [],
   "source": [
    "#subset to countries of interest\n",
    "#picking one country to represent each special interest group and\n",
    "#selecting the United States and China as well\n",
    "countries_of_interest = [\"United States\", \"China\", \"Germany\", \"Bangladesh\", \n",
    "                         \"Dominican Republic\", \"Saudi Arabia\"]\n",
    "stats_reduced = stats_data[stats_data['country'].isin(countries_of_interest)]"
   ]
  },
  {
   "cell_type": "code",
   "execution_count": 62,
   "metadata": {},
   "outputs": [],
   "source": [
    "#subset to year 2013\n",
    "stats_2013 = stats_reduced[stats_reduced['year']==2013]\n",
    "#fill in missing data\n",
    "stats_2013 = stats_2013.replace(np.nan, 1949992*1000000) #comes from WITS (world integrated trade solution)\n",
    "#select columns of interest\n",
    "stats_2013_reduced = stats_2013[[\"country\", \"gdp\", \"imports\", \"exports\"]]"
   ]
  },
  {
   "cell_type": "code",
   "execution_count": 65,
   "metadata": {},
   "outputs": [
    {
     "ename": "AttributeError",
     "evalue": "'AxesSubplot' object has no attribute 'bar_label'",
     "output_type": "error",
     "traceback": [
      "\u001b[1;31m---------------------------------------------------------------------------\u001b[0m",
      "\u001b[1;31mAttributeError\u001b[0m                            Traceback (most recent call last)",
      "\u001b[1;32m<ipython-input-65-5b9399dc6c5b>\u001b[0m in \u001b[0;36m<module>\u001b[1;34m\u001b[0m\n\u001b[0;32m     21\u001b[0m \u001b[0max\u001b[0m\u001b[1;33m.\u001b[0m\u001b[0mlegend\u001b[0m\u001b[1;33m(\u001b[0m\u001b[1;33m)\u001b[0m\u001b[1;33m\u001b[0m\u001b[1;33m\u001b[0m\u001b[0m\n\u001b[0;32m     22\u001b[0m \u001b[1;33m\u001b[0m\u001b[0m\n\u001b[1;32m---> 23\u001b[1;33m \u001b[0max\u001b[0m\u001b[1;33m.\u001b[0m\u001b[0mbar_label\u001b[0m\u001b[1;33m(\u001b[0m\u001b[0mrects1\u001b[0m\u001b[1;33m,\u001b[0m \u001b[0mpadding\u001b[0m\u001b[1;33m=\u001b[0m\u001b[1;36m3\u001b[0m\u001b[1;33m)\u001b[0m\u001b[1;33m\u001b[0m\u001b[1;33m\u001b[0m\u001b[0m\n\u001b[0m\u001b[0;32m     24\u001b[0m \u001b[0max\u001b[0m\u001b[1;33m.\u001b[0m\u001b[0mbar_label\u001b[0m\u001b[1;33m(\u001b[0m\u001b[0mrects2\u001b[0m\u001b[1;33m,\u001b[0m \u001b[0mpadding\u001b[0m\u001b[1;33m=\u001b[0m\u001b[1;36m3\u001b[0m\u001b[1;33m)\u001b[0m\u001b[1;33m\u001b[0m\u001b[1;33m\u001b[0m\u001b[0m\n\u001b[0;32m     25\u001b[0m \u001b[0max\u001b[0m\u001b[1;33m.\u001b[0m\u001b[0mbar_label\u001b[0m\u001b[1;33m(\u001b[0m\u001b[0mrects3\u001b[0m\u001b[1;33m,\u001b[0m \u001b[0mpadding\u001b[0m\u001b[1;33m=\u001b[0m\u001b[1;36m3\u001b[0m\u001b[1;33m)\u001b[0m\u001b[1;33m\u001b[0m\u001b[1;33m\u001b[0m\u001b[0m\n",
      "\u001b[1;31mAttributeError\u001b[0m: 'AxesSubplot' object has no attribute 'bar_label'"
     ]
    },
    {
     "data": {
      "image/png": "[encoded data removed]",
      "text/plain": [
       "<Figure size 432x288 with 1 Axes>"
      ]
     },
     "metadata": {
      "needs_background": "light"
     },
     "output_type": "display_data"
    }
   ],
   "source": [
    "#grouped bar chart for gdp, imports, and exports in 2013\n",
    "\n",
    "labels = stats_2013_reduced['country']\n",
    "GDP = stats_2013_reduced['gdp']/1000000\n",
    "Imports = stats_2013_reduced['imports']/1000000\n",
    "Exports = stats_2013_reduced['exports']/1000000\n",
    "\n",
    "x = np.arange(len(labels))  # the label locations\n",
    "width = 0.35  # the width of the bars\n",
    "\n",
    "fig, ax = plt.subplots()\n",
    "rects1 = ax.bar(x - width/2, GDP, width, label='GDP')\n",
    "rects2 = ax.bar(x + width/2, Imports, width, label='Imports')\n",
    "rects3 = ax.bar(x + width/2, Exports, width, label='Exports')\n",
    "\n",
    "# Add some text for labels, title and custom x-axis tick labels, etc.\n",
    "ax.set_ylabel('Constant 2010 US$ (millions)')\n",
    "ax.set_title('GDP, Imports, Exports')\n",
    "ax.set_xticks(x)\n",
    "ax.set_xticklabels(labels)\n",
    "ax.legend()\n",
    "\n",
    "ax.bar_label(rects1, padding=3)\n",
    "ax.bar_label(rects2, padding=3)\n",
    "ax.bar_label(rects3, padding=3)\n",
    "\n",
    "fig.tight_layout()\n",
    "\n",
    "plt.show()"
   ]
  },
  {
   "cell_type": "code",
   "execution_count": 66,
   "metadata": {},
   "outputs": [
    {
     "name": "stdout",
     "output_type": "stream",
     "text": [
      "3.3.2\n"
     ]
    }
   ],
   "source": []
  },
  {
   "cell_type": "code",
   "execution_count": 11,
   "metadata": {},
   "outputs": [],
   "source": [
    "SIDS - Dominican Republic\n",
    "OPEC - Saudi Arabia\n",
    "EU - Germany\n",
    "LDC - Bangladesh"
   ]
  }
 ],
 "metadata": {
  "kernelspec": {
   "display_name": "Python 3",
   "language": "python",
   "name": "python3"
  },
  "language_info": {
   "codemirror_mode": {
    "name": "ipython",
    "version": 3
   },
   "file_extension": ".py",
   "mimetype": "text/x-python",
   "name": "python",
   "nbconvert_exporter": "python",
   "pygments_lexer": "ipython3",
   "version": "3.8.5"
  }
 },
 "nbformat": 4,
 "nbformat_minor": 4
}
